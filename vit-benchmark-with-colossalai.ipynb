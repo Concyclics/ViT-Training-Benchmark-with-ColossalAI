{
 "cells": [
  {
   "cell_type": "code",
   "execution_count": 1,
   "id": "8cf5be5c",
   "metadata": {
    "_cell_guid": "b1076dfc-b9ad-4769-8c92-a6c4dae69d19",
    "_uuid": "8f2839f25d086af736a60e9eeb907d3b93b6e0e5",
    "execution": {
     "iopub.execute_input": "2024-04-09T14:27:29.407629Z",
     "iopub.status.busy": "2024-04-09T14:27:29.407300Z",
     "iopub.status.idle": "2024-04-09T14:27:33.177006Z",
     "shell.execute_reply": "2024-04-09T14:27:33.175859Z"
    },
    "papermill": {
     "duration": 3.776734,
     "end_time": "2024-04-09T14:27:33.179600",
     "exception": false,
     "start_time": "2024-04-09T14:27:29.402866",
     "status": "completed"
    },
    "tags": []
   },
   "outputs": [
    {
     "name": "stdout",
     "output_type": "stream",
     "text": [
      "Cloning into 'ColossalAI'...\r\n",
      "remote: Enumerating objects: 41488, done.\u001b[K\r\n",
      "remote: Counting objects: 100% (1916/1916), done.\u001b[K\r\n",
      "remote: Compressing objects: 100% (1293/1293), done.\u001b[K\r\n",
      "remote: Total 41488 (delta 1039), reused 1244 (delta 611), pack-reused 39572\u001b[K\r\n",
      "Receiving objects: 100% (41488/41488), 30.14 MiB | 27.83 MiB/s, done.\r\n",
      "Resolving deltas: 100% (27970/27970), done.\r\n"
     ]
    }
   ],
   "source": [
    "!git clone https://github.com/hpcaitech/ColossalAI.git"
   ]
  },
  {
   "cell_type": "code",
   "execution_count": 2,
   "id": "ef75108f",
   "metadata": {
    "execution": {
     "iopub.execute_input": "2024-04-09T14:27:33.193434Z",
     "iopub.status.busy": "2024-04-09T14:27:33.192881Z",
     "iopub.status.idle": "2024-04-09T14:27:33.199700Z",
     "shell.execute_reply": "2024-04-09T14:27:33.198793Z"
    },
    "papermill": {
     "duration": 0.015845,
     "end_time": "2024-04-09T14:27:33.201690",
     "exception": false,
     "start_time": "2024-04-09T14:27:33.185845",
     "status": "completed"
    },
    "tags": []
   },
   "outputs": [
    {
     "name": "stdout",
     "output_type": "stream",
     "text": [
      "/kaggle/working/ColossalAI/examples/images/vit\n"
     ]
    }
   ],
   "source": [
    "cd ColossalAI/examples/images/vit"
   ]
  },
  {
   "cell_type": "code",
   "execution_count": 3,
   "id": "0867f3b0",
   "metadata": {
    "execution": {
     "iopub.execute_input": "2024-04-09T14:27:33.213979Z",
     "iopub.status.busy": "2024-04-09T14:27:33.213669Z",
     "iopub.status.idle": "2024-04-09T14:27:33.219164Z",
     "shell.execute_reply": "2024-04-09T14:27:33.218469Z"
    },
    "papermill": {
     "duration": 0.013764,
     "end_time": "2024-04-09T14:27:33.221035",
     "exception": false,
     "start_time": "2024-04-09T14:27:33.207271",
     "status": "completed"
    },
    "tags": []
   },
   "outputs": [],
   "source": [
    "my_benchmark = '''\n",
    "set -xe\n",
    "pip install -r requirements.txt\n",
    "\n",
    "export BS=8\n",
    "export MEMCAP=0\n",
    "export GPUNUM=2\n",
    "\n",
    "for BS in 8 16 32 64 128 256\n",
    "do\n",
    "for PLUGIN in \"torch_ddp\" \"torch_ddp_fp16\" \"low_level_zero\" \"gemini\"\n",
    "do\n",
    "for iter in {1..3} \n",
    "do\n",
    "\n",
    "MODEL_PATH=\"google/vit-base-patch16-224\"\n",
    "colossalai run \\\n",
    "  --nproc_per_node ${GPUNUM} \\\n",
    "  --master_port 29505 \\\n",
    "  vit_benchmark.py \\\n",
    "  --model_name_or_path ${MODEL_PATH} \\\n",
    "  --mem_cap ${MEMCAP} \\\n",
    "  --plugin ${PLUGIN} \\\n",
    "  --batch_size ${BS}\n",
    "\n",
    "done\n",
    "done\n",
    "done\n",
    "'''\n",
    "\n",
    "file_path = '/kaggle/working/ColossalAI/examples/images/vit/my_benchmark.sh'\n",
    "\n",
    "with open(file_path, 'w') as file:\n",
    "    file.write(my_benchmark)"
   ]
  },
  {
   "cell_type": "code",
   "execution_count": 4,
   "id": "92accb59",
   "metadata": {
    "execution": {
     "iopub.execute_input": "2024-04-09T14:27:33.233296Z",
     "iopub.status.busy": "2024-04-09T14:27:33.233042Z",
     "iopub.status.idle": "2024-04-09T15:37:22.031333Z",
     "shell.execute_reply": "2024-04-09T15:37:22.029968Z"
    },
    "papermill": {
     "duration": 4188.807148,
     "end_time": "2024-04-09T15:37:22.033944",
     "exception": false,
     "start_time": "2024-04-09T14:27:33.226796",
     "status": "completed"
    },
    "tags": []
   },
   "outputs": [],
   "source": [
    "!bash my_benchmark.sh > log.txt 2> errors.txt"
   ]
  },
  {
   "cell_type": "code",
   "execution_count": 5,
   "id": "2f7548df",
   "metadata": {
    "execution": {
     "iopub.execute_input": "2024-04-09T15:37:22.092916Z",
     "iopub.status.busy": "2024-04-09T15:37:22.092489Z",
     "iopub.status.idle": "2024-04-09T15:37:22.892410Z",
     "shell.execute_reply": "2024-04-09T15:37:22.891507Z"
    },
    "papermill": {
     "duration": 0.809263,
     "end_time": "2024-04-09T15:37:22.894528",
     "exception": false,
     "start_time": "2024-04-09T15:37:22.085265",
     "status": "completed"
    },
    "tags": []
   },
   "outputs": [
    {
     "data": {
      "text/html": [
       "<div>\n",
       "<style scoped>\n",
       "    .dataframe tbody tr th:only-of-type {\n",
       "        vertical-align: middle;\n",
       "    }\n",
       "\n",
       "    .dataframe tbody tr th {\n",
       "        vertical-align: top;\n",
       "    }\n",
       "\n",
       "    .dataframe thead th {\n",
       "        text-align: right;\n",
       "    }\n",
       "</style>\n",
       "<table border=\"1\" class=\"dataframe\">\n",
       "  <thead>\n",
       "    <tr style=\"text-align: right;\">\n",
       "      <th></th>\n",
       "      <th>batch</th>\n",
       "      <th>plugin</th>\n",
       "      <th>throughput</th>\n",
       "      <th>memory_usage_per_gpu(GB)</th>\n",
       "    </tr>\n",
       "  </thead>\n",
       "  <tbody>\n",
       "    <tr>\n",
       "      <th>0</th>\n",
       "      <td>8</td>\n",
       "      <td>torch_ddp</td>\n",
       "      <td>40.6788</td>\n",
       "      <td>1.74</td>\n",
       "    </tr>\n",
       "    <tr>\n",
       "      <th>1</th>\n",
       "      <td>8</td>\n",
       "      <td>torch_ddp</td>\n",
       "      <td>43.5375</td>\n",
       "      <td>1.74</td>\n",
       "    </tr>\n",
       "    <tr>\n",
       "      <th>2</th>\n",
       "      <td>8</td>\n",
       "      <td>torch_ddp</td>\n",
       "      <td>42.8135</td>\n",
       "      <td>1.74</td>\n",
       "    </tr>\n",
       "    <tr>\n",
       "      <th>3</th>\n",
       "      <td>8</td>\n",
       "      <td>torch_ddp_fp16</td>\n",
       "      <td>88.4395</td>\n",
       "      <td>1.73</td>\n",
       "    </tr>\n",
       "    <tr>\n",
       "      <th>4</th>\n",
       "      <td>8</td>\n",
       "      <td>torch_ddp_fp16</td>\n",
       "      <td>89.7040</td>\n",
       "      <td>1.73</td>\n",
       "    </tr>\n",
       "    <tr>\n",
       "      <th>...</th>\n",
       "      <td>...</td>\n",
       "      <td>...</td>\n",
       "      <td>...</td>\n",
       "      <td>...</td>\n",
       "    </tr>\n",
       "    <tr>\n",
       "      <th>67</th>\n",
       "      <td>256</td>\n",
       "      <td>low_level_zero</td>\n",
       "      <td>165.7287</td>\n",
       "      <td>3.53</td>\n",
       "    </tr>\n",
       "    <tr>\n",
       "      <th>68</th>\n",
       "      <td>256</td>\n",
       "      <td>low_level_zero</td>\n",
       "      <td>166.2423</td>\n",
       "      <td>3.53</td>\n",
       "    </tr>\n",
       "    <tr>\n",
       "      <th>69</th>\n",
       "      <td>256</td>\n",
       "      <td>gemini</td>\n",
       "      <td>167.3044</td>\n",
       "      <td>2.98</td>\n",
       "    </tr>\n",
       "    <tr>\n",
       "      <th>70</th>\n",
       "      <td>256</td>\n",
       "      <td>gemini</td>\n",
       "      <td>167.2551</td>\n",
       "      <td>2.98</td>\n",
       "    </tr>\n",
       "    <tr>\n",
       "      <th>71</th>\n",
       "      <td>256</td>\n",
       "      <td>gemini</td>\n",
       "      <td>166.7779</td>\n",
       "      <td>2.98</td>\n",
       "    </tr>\n",
       "  </tbody>\n",
       "</table>\n",
       "<p>72 rows × 4 columns</p>\n",
       "</div>"
      ],
      "text/plain": [
       "    batch          plugin  throughput  memory_usage_per_gpu(GB)\n",
       "0       8       torch_ddp     40.6788                      1.74\n",
       "1       8       torch_ddp     43.5375                      1.74\n",
       "2       8       torch_ddp     42.8135                      1.74\n",
       "3       8  torch_ddp_fp16     88.4395                      1.73\n",
       "4       8  torch_ddp_fp16     89.7040                      1.73\n",
       "..    ...             ...         ...                       ...\n",
       "67    256  low_level_zero    165.7287                      3.53\n",
       "68    256  low_level_zero    166.2423                      3.53\n",
       "69    256          gemini    167.3044                      2.98\n",
       "70    256          gemini    167.2551                      2.98\n",
       "71    256          gemini    166.7779                      2.98\n",
       "\n",
       "[72 rows x 4 columns]"
      ]
     },
     "execution_count": 5,
     "metadata": {},
     "output_type": "execute_result"
    }
   ],
   "source": [
    "import pandas as pd\n",
    "\n",
    "batchs = []\n",
    "plugins = []\n",
    "throughputs = []\n",
    "memory_usages = []\n",
    "\n",
    "with open('log.txt', 'r') as file:\n",
    "    lines = file.readlines()\n",
    "    for i in range(len(lines)):\n",
    "        if 'batch size per gpu' in lines[i]:\n",
    "            line = lines[i].strip() + lines[i+1].strip() + lines[i+2].strip()\n",
    "            batch, plugin, throughput, memory = line.split(',')\n",
    "            batch = int(batch.split()[-1][7:][:-4])\n",
    "            plugin = plugin.split()[-1]\n",
    "            throughput = float(throughput.split()[-1][7:][:-4])\n",
    "            memory_unit = memory.split()[-1][:-1]\n",
    "            memory_usage = float(memory.split()[-2][7:][:-4])\n",
    "            if memory_unit == 'MB':\n",
    "                memory_usage /= 1024\n",
    "            batchs.append(batch)\n",
    "            plugins.append(plugin)\n",
    "            throughputs.append(throughput)\n",
    "            memory_usages.append(memory_usage)\n",
    "\n",
    "test_log = pd.DataFrame({'batch': batchs, 'plugin': plugins, 'throughput':throughputs, 'memory_usage_per_gpu(GB)':memory_usages})\n",
    "test_log.to_csv('benchmark.csv')\n",
    "test_log"
   ]
  },
  {
   "cell_type": "code",
   "execution_count": 6,
   "id": "307c011c",
   "metadata": {
    "execution": {
     "iopub.execute_input": "2024-04-09T15:37:22.907536Z",
     "iopub.status.busy": "2024-04-09T15:37:22.907260Z",
     "iopub.status.idle": "2024-04-09T15:37:25.501877Z",
     "shell.execute_reply": "2024-04-09T15:37:25.500948Z"
    },
    "papermill": {
     "duration": 2.603548,
     "end_time": "2024-04-09T15:37:25.504088",
     "exception": false,
     "start_time": "2024-04-09T15:37:22.900540",
     "status": "completed"
    },
    "tags": []
   },
   "outputs": [
    {
     "data": {
      "image/png": "[encoded data removed]",
      "text/plain": [
       "<Figure size 900x600 with 1 Axes>"
      ]
     },
     "metadata": {},
     "output_type": "display_data"
    }
   ],
   "source": [
    "import seaborn as sns\n",
    "import matplotlib.pyplot as plt\n",
    "sns.set_style('whitegrid')\n",
    "plt.figure(figsize=(9, 6))\n",
    "sns.barplot(x='batch', y='throughput', hue='plugin', data=test_log)\n",
    "plt.title('throughput via different plugin')\n",
    "plt.savefig('throughput.png')"
   ]
  },
  {
   "cell_type": "code",
   "execution_count": 7,
   "id": "6b00213d",
   "metadata": {
    "execution": {
     "iopub.execute_input": "2024-04-09T15:37:25.518363Z",
     "iopub.status.busy": "2024-04-09T15:37:25.517960Z",
     "iopub.status.idle": "2024-04-09T15:37:26.823722Z",
     "shell.execute_reply": "2024-04-09T15:37:26.822724Z"
    },
    "papermill": {
     "duration": 1.315304,
     "end_time": "2024-04-09T15:37:26.826007",
     "exception": false,
     "start_time": "2024-04-09T15:37:25.510703",
     "status": "completed"
    },
    "tags": []
   },
   "outputs": [
    {
     "data": {
      "image/png": "[encoded data removed]",
      "text/plain": [
       "<Figure size 900x600 with 1 Axes>"
      ]
     },
     "metadata": {},
     "output_type": "display_data"
    }
   ],
   "source": [
    "sns.set_style('whitegrid')\n",
    "plt.figure(figsize=(9, 6))\n",
    "sns.barplot(x='batch', y='memory_usage_per_gpu(GB)', hue='plugin', data=test_log)\n",
    "plt.title('memory usage via different plugin')\n",
    "plt.savefig('memory.png')"
   ]
  }
 ],
 "metadata": {
  "kaggle": {
   "accelerator": "nvidiaTeslaT4",
   "dataSources": [],
   "dockerImageVersionId": 30683,
   "isGpuEnabled": true,
   "isInternetEnabled": true,
   "language": "python",
   "sourceType": "notebook"
  },
  "kernelspec": {
   "display_name": "Python 3",
   "language": "python",
   "name": "python3"
  },
  "language_info": {
   "codemirror_mode": {
    "name": "ipython",
    "version": 3
   },
   "file_extension": ".py",
   "mimetype": "text/x-python",
   "name": "python",
   "nbconvert_exporter": "python",
   "pygments_lexer": "ipython3",
   "version": "3.10.13"
  },
  "papermill": {
   "default_parameters": {},
   "duration": 4200.715562,
   "end_time": "2024-04-09T15:37:27.259508",
   "environment_variables": {},
   "exception": null,
   "input_path": "__notebook__.ipynb",
   "output_path": "__notebook__.ipynb",
   "parameters": {},
   "start_time": "2024-04-09T14:27:26.543946",
   "version": "2.5.0"
  }
 },
 "nbformat": 4,
 "nbformat_minor": 5
}
