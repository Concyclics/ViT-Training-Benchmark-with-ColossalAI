{
 "cells": [
  {
   "cell_type": "code",
   "execution_count": 1,
   "id": "ac41ba65",
   "metadata": {
    "_cell_guid": "b1076dfc-b9ad-4769-8c92-a6c4dae69d19",
    "_uuid": "8f2839f25d086af736a60e9eeb907d3b93b6e0e5",
    "execution": {
     "iopub.execute_input": "2024-04-09T17:55:47.556296Z",
     "iopub.status.busy": "2024-04-09T17:55:47.555901Z",
     "iopub.status.idle": "2024-04-09T17:55:49.273184Z",
     "shell.execute_reply": "2024-04-09T17:55:49.272231Z"
    },
    "papermill": {
     "duration": 1.72432,
     "end_time": "2024-04-09T17:55:49.275529",
     "exception": false,
     "start_time": "2024-04-09T17:55:47.551209",
     "status": "completed"
    },
    "tags": []
   },
   "outputs": [
    {
     "name": "stdout",
     "output_type": "stream",
     "text": [
      "Cloning into 'ViT-Training-Benchmark-with-ColossalAI'...\r\n",
      "remote: Enumerating objects: 47, done.\u001b[K\r\n",
      "remote: Counting objects: 100% (47/47), done.\u001b[K\r\n",
      "remote: Compressing objects: 100% (47/47), done.\u001b[K\r\n",
      "remote: Total 47 (delta 21), reused 0 (delta 0), pack-reused 0\u001b[K\r\n",
      "Unpacking objects: 100% (47/47), 121.59 KiB | 1.87 MiB/s, done.\r\n"
     ]
    }
   ],
   "source": [
    "!git clone https://github.com/Concyclics/ViT-Training-Benchmark-with-ColossalAI.git"
   ]
  },
  {
   "cell_type": "code",
   "execution_count": 2,
   "id": "d75f74c1",
   "metadata": {
    "execution": {
     "iopub.execute_input": "2024-04-09T17:55:49.283997Z",
     "iopub.status.busy": "2024-04-09T17:55:49.283691Z",
     "iopub.status.idle": "2024-04-09T17:55:49.290044Z",
     "shell.execute_reply": "2024-04-09T17:55:49.289231Z"
    },
    "papermill": {
     "duration": 0.012843,
     "end_time": "2024-04-09T17:55:49.291980",
     "exception": false,
     "start_time": "2024-04-09T17:55:49.279137",
     "status": "completed"
    },
    "tags": []
   },
   "outputs": [
    {
     "name": "stdout",
     "output_type": "stream",
     "text": [
      "/kaggle/working/ViT-Training-Benchmark-with-ColossalAI\n"
     ]
    }
   ],
   "source": [
    "cd ViT-Training-Benchmark-with-ColossalAI"
   ]
  },
  {
   "cell_type": "code",
   "execution_count": 3,
   "id": "2479d61f",
   "metadata": {
    "execution": {
     "iopub.execute_input": "2024-04-09T17:55:49.299619Z",
     "iopub.status.busy": "2024-04-09T17:55:49.299348Z",
     "iopub.status.idle": "2024-04-09T17:55:50.287986Z",
     "shell.execute_reply": "2024-04-09T17:55:50.286747Z"
    },
    "papermill": {
     "duration": 0.995313,
     "end_time": "2024-04-09T17:55:50.290597",
     "exception": false,
     "start_time": "2024-04-09T17:55:49.295284",
     "status": "completed"
    },
    "tags": []
   },
   "outputs": [
    {
     "name": "stdout",
     "output_type": "stream",
     "text": [
      "set -xe\r\n",
      "pip install -r requirements.txt\r\n",
      "\r\n",
      "export BS=8\r\n",
      "export MEMCAP=0\r\n",
      "export GPUNUM=2\r\n",
      "\r\n",
      "for BS in 8 16 32 64 128 256\r\n",
      "do\r\n",
      "for PLUGIN in \"torch_ddp\" \"torch_ddp_fp16\" \"low_level_zero\" \"gemini\"\r\n",
      "do\r\n",
      "for iter in {1..3} \r\n",
      "do\r\n",
      "\r\n",
      "MODEL_PATH=\"google/vit-base-patch16-224\"\r\n",
      "colossalai run \\\r\n",
      "  --nproc_per_node ${GPUNUM} \\\r\n",
      "  --master_port 29505 \\\r\n",
      "  vit_benchmark.py \\\r\n",
      "  --model_name_or_path ${MODEL_PATH} \\\r\n",
      "  --mem_cap ${MEMCAP} \\\r\n",
      "  --plugin ${PLUGIN} \\\r\n",
      "  --batch_size ${BS}\r\n",
      "\r\n",
      "done\r\n",
      "done\r\n",
      "done\r\n"
     ]
    }
   ],
   "source": [
    "!cat my_benchmark.sh"
   ]
  },
  {
   "cell_type": "code",
   "execution_count": 4,
   "id": "88bb6c71",
   "metadata": {
    "execution": {
     "iopub.execute_input": "2024-04-09T17:55:50.299745Z",
     "iopub.status.busy": "2024-04-09T17:55:50.299405Z",
     "iopub.status.idle": "2024-04-09T19:04:51.868743Z",
     "shell.execute_reply": "2024-04-09T19:04:51.867417Z"
    },
    "papermill": {
     "duration": 4141.577056,
     "end_time": "2024-04-09T19:04:51.871558",
     "exception": false,
     "start_time": "2024-04-09T17:55:50.294502",
     "status": "completed"
    },
    "tags": []
   },
   "outputs": [],
   "source": [
    "!bash my_benchmark.sh > log.txt 2> errors.txt"
   ]
  },
  {
   "cell_type": "code",
   "execution_count": 5,
   "id": "9f423786",
   "metadata": {
    "execution": {
     "iopub.execute_input": "2024-04-09T19:04:51.882247Z",
     "iopub.status.busy": "2024-04-09T19:04:51.881497Z",
     "iopub.status.idle": "2024-04-09T19:04:52.866917Z",
     "shell.execute_reply": "2024-04-09T19:04:52.865811Z"
    },
    "papermill": {
     "duration": 0.993924,
     "end_time": "2024-04-09T19:04:52.869747",
     "exception": false,
     "start_time": "2024-04-09T19:04:51.875823",
     "status": "completed"
    },
    "tags": []
   },
   "outputs": [
    {
     "data": {
      "text/html": [
       "<div>\n",
       "<style scoped>\n",
       "    .dataframe tbody tr th:only-of-type {\n",
       "        vertical-align: middle;\n",
       "    }\n",
       "\n",
       "    .dataframe tbody tr th {\n",
       "        vertical-align: top;\n",
       "    }\n",
       "\n",
       "    .dataframe thead th {\n",
       "        text-align: right;\n",
       "    }\n",
       "</style>\n",
       "<table border=\"1\" class=\"dataframe\">\n",
       "  <thead>\n",
       "    <tr style=\"text-align: right;\">\n",
       "      <th></th>\n",
       "      <th>batch</th>\n",
       "      <th>plugin</th>\n",
       "      <th>throughput</th>\n",
       "      <th>memory_usage_per_gpu(GB)</th>\n",
       "    </tr>\n",
       "  </thead>\n",
       "  <tbody>\n",
       "    <tr>\n",
       "      <th>0</th>\n",
       "      <td>8</td>\n",
       "      <td>torch_ddp</td>\n",
       "      <td>41.7742</td>\n",
       "      <td>1.74</td>\n",
       "    </tr>\n",
       "    <tr>\n",
       "      <th>1</th>\n",
       "      <td>8</td>\n",
       "      <td>torch_ddp</td>\n",
       "      <td>45.3673</td>\n",
       "      <td>1.74</td>\n",
       "    </tr>\n",
       "    <tr>\n",
       "      <th>2</th>\n",
       "      <td>8</td>\n",
       "      <td>torch_ddp</td>\n",
       "      <td>44.8215</td>\n",
       "      <td>1.74</td>\n",
       "    </tr>\n",
       "    <tr>\n",
       "      <th>3</th>\n",
       "      <td>8</td>\n",
       "      <td>torch_ddp_fp16</td>\n",
       "      <td>96.4711</td>\n",
       "      <td>1.73</td>\n",
       "    </tr>\n",
       "    <tr>\n",
       "      <th>4</th>\n",
       "      <td>8</td>\n",
       "      <td>torch_ddp_fp16</td>\n",
       "      <td>99.3081</td>\n",
       "      <td>1.73</td>\n",
       "    </tr>\n",
       "    <tr>\n",
       "      <th>...</th>\n",
       "      <td>...</td>\n",
       "      <td>...</td>\n",
       "      <td>...</td>\n",
       "      <td>...</td>\n",
       "    </tr>\n",
       "    <tr>\n",
       "      <th>67</th>\n",
       "      <td>256</td>\n",
       "      <td>low_level_zero</td>\n",
       "      <td>169.3250</td>\n",
       "      <td>3.53</td>\n",
       "    </tr>\n",
       "    <tr>\n",
       "      <th>68</th>\n",
       "      <td>256</td>\n",
       "      <td>low_level_zero</td>\n",
       "      <td>169.9275</td>\n",
       "      <td>3.53</td>\n",
       "    </tr>\n",
       "    <tr>\n",
       "      <th>69</th>\n",
       "      <td>256</td>\n",
       "      <td>gemini</td>\n",
       "      <td>172.7707</td>\n",
       "      <td>2.98</td>\n",
       "    </tr>\n",
       "    <tr>\n",
       "      <th>70</th>\n",
       "      <td>256</td>\n",
       "      <td>gemini</td>\n",
       "      <td>172.5867</td>\n",
       "      <td>2.98</td>\n",
       "    </tr>\n",
       "    <tr>\n",
       "      <th>71</th>\n",
       "      <td>256</td>\n",
       "      <td>gemini</td>\n",
       "      <td>172.0256</td>\n",
       "      <td>2.98</td>\n",
       "    </tr>\n",
       "  </tbody>\n",
       "</table>\n",
       "<p>72 rows × 4 columns</p>\n",
       "</div>"
      ],
      "text/plain": [
       "    batch          plugin  throughput  memory_usage_per_gpu(GB)\n",
       "0       8       torch_ddp     41.7742                      1.74\n",
       "1       8       torch_ddp     45.3673                      1.74\n",
       "2       8       torch_ddp     44.8215                      1.74\n",
       "3       8  torch_ddp_fp16     96.4711                      1.73\n",
       "4       8  torch_ddp_fp16     99.3081                      1.73\n",
       "..    ...             ...         ...                       ...\n",
       "67    256  low_level_zero    169.3250                      3.53\n",
       "68    256  low_level_zero    169.9275                      3.53\n",
       "69    256          gemini    172.7707                      2.98\n",
       "70    256          gemini    172.5867                      2.98\n",
       "71    256          gemini    172.0256                      2.98\n",
       "\n",
       "[72 rows x 4 columns]"
      ]
     },
     "execution_count": 5,
     "metadata": {},
     "output_type": "execute_result"
    }
   ],
   "source": [
    "import pandas as pd\n",
    "\n",
    "batchs = []\n",
    "plugins = []\n",
    "throughputs = []\n",
    "memory_usages = []\n",
    "\n",
    "with open('log.txt', 'r') as file:\n",
    "    lines = file.readlines()\n",
    "    for i in range(len(lines)):\n",
    "        if 'batch size per gpu' in lines[i]:\n",
    "            line = lines[i].strip() + lines[i+1].strip() + lines[i+2].strip()\n",
    "            batch, plugin, throughput, memory = line.split(',')\n",
    "            batch = int(batch.split()[-1][7:][:-4])\n",
    "            plugin = plugin.split()[-1]\n",
    "            throughput = float(throughput.split()[-1][7:][:-4])\n",
    "            memory_unit = memory.split()[-1][:-1]\n",
    "            memory_usage = float(memory.split()[-2][7:][:-4])\n",
    "            if memory_unit == 'MB':\n",
    "                memory_usage /= 1024\n",
    "            batchs.append(batch)\n",
    "            plugins.append(plugin)\n",
    "            throughputs.append(throughput)\n",
    "            memory_usages.append(memory_usage)\n",
    "\n",
    "test_log = pd.DataFrame({'batch': batchs, 'plugin': plugins, 'throughput':throughputs, 'memory_usage_per_gpu(GB)':memory_usages})\n",
    "test_log.to_csv('benchmark.csv')\n",
    "test_log"
   ]
  },
  {
   "cell_type": "code",
   "execution_count": 6,
   "id": "90a8075e",
   "metadata": {
    "execution": {
     "iopub.execute_input": "2024-04-09T19:04:52.879723Z",
     "iopub.status.busy": "2024-04-09T19:04:52.879421Z",
     "iopub.status.idle": "2024-04-09T19:04:55.800892Z",
     "shell.execute_reply": "2024-04-09T19:04:55.799899Z"
    },
    "papermill": {
     "duration": 2.929524,
     "end_time": "2024-04-09T19:04:55.803612",
     "exception": false,
     "start_time": "2024-04-09T19:04:52.874088",
     "status": "completed"
    },
    "tags": []
   },
   "outputs": [
    {
     "data": {
      "image/png": "[encoded data removed]",
      "text/plain": [
       "<Figure size 900x600 with 1 Axes>"
      ]
     },
     "metadata": {},
     "output_type": "display_data"
    }
   ],
   "source": [
    "import seaborn as sns\n",
    "import matplotlib.pyplot as plt\n",
    "sns.set_style('whitegrid')\n",
    "plt.figure(figsize=(9, 6))\n",
    "sns.barplot(x='batch', y='throughput', hue='plugin', data=test_log)\n",
    "plt.title('throughput via different plugin')\n",
    "plt.savefig('throughput.png')"
   ]
  },
  {
   "cell_type": "code",
   "execution_count": 7,
   "id": "b25dda18",
   "metadata": {
    "execution": {
     "iopub.execute_input": "2024-04-09T19:04:55.873877Z",
     "iopub.status.busy": "2024-04-09T19:04:55.872879Z",
     "iopub.status.idle": "2024-04-09T19:04:57.245432Z",
     "shell.execute_reply": "2024-04-09T19:04:57.244593Z"
    },
    "papermill": {
     "duration": 1.438894,
     "end_time": "2024-04-09T19:04:57.247493",
     "exception": false,
     "start_time": "2024-04-09T19:04:55.808599",
     "status": "completed"
    },
    "tags": []
   },
   "outputs": [
    {
     "data": {
      "image/png": "[encoded data removed]",
      "text/plain": [
       "<Figure size 900x600 with 1 Axes>"
      ]
     },
     "metadata": {},
     "output_type": "display_data"
    }
   ],
   "source": [
    "sns.set_style('whitegrid')\n",
    "plt.figure(figsize=(9, 6))\n",
    "sns.barplot(x='batch', y='memory_usage_per_gpu(GB)', hue='plugin', data=test_log)\n",
    "plt.title('memory usage via different plugin')\n",
    "plt.savefig('memory.png')"
   ]
  }
 ],
 "metadata": {
  "kaggle": {
   "accelerator": "nvidiaTeslaT4",
   "dataSources": [],
   "dockerImageVersionId": 30683,
   "isGpuEnabled": true,
   "isInternetEnabled": true,
   "language": "python",
   "sourceType": "notebook"
  },
  "kernelspec": {
   "display_name": "Python 3",
   "language": "python",
   "name": "python3"
  },
  "language_info": {
   "codemirror_mode": {
    "name": "ipython",
    "version": 3
   },
   "file_extension": ".py",
   "mimetype": "text/x-python",
   "name": "python",
   "nbconvert_exporter": "python",
   "pygments_lexer": "ipython3",
   "version": "3.10.13"
  },
  "papermill": {
   "default_parameters": {},
   "duration": 4153.278589,
   "end_time": "2024-04-09T19:04:57.679186",
   "environment_variables": {},
   "exception": null,
   "input_path": "__notebook__.ipynb",
   "output_path": "__notebook__.ipynb",
   "parameters": {},
   "start_time": "2024-04-09T17:55:44.400597",
   "version": "2.5.0"
  }
 },
 "nbformat": 4,
 "nbformat_minor": 5
}
